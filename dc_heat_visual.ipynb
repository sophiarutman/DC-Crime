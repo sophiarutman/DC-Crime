{
 "cells": [
  {
   "cell_type": "code",
   "execution_count": 2,
   "metadata": {},
   "outputs": [
    {
     "name": "stderr",
     "output_type": "stream",
     "text": [
      "/var/folders/7t/dpwxgyj14sn5gpv6rfjdybcw0000gn/T/ipykernel_6311/2191213792.py:3: DtypeWarning: Columns (7,14,16,17) have mixed types. Specify dtype option on import or set low_memory=False.\n",
      "  arrest = pd.read_csv('arrests_2013-2023.csv')\n"
     ]
    },
    {
     "data": {
      "text/plain": [
       "['Arrestee.Type',\n",
       " 'Arrest.Year',\n",
       " 'Arrest.Date',\n",
       " 'Arrest.Hour',\n",
       " 'CCN',\n",
       " 'Arrest.Number.',\n",
       " 'Age',\n",
       " 'Defendant.PSA',\n",
       " 'Defendant.District',\n",
       " 'Defendant.Race',\n",
       " 'Defendant.Ethnicity',\n",
       " 'Defendant.Sex',\n",
       " 'Arrest.Category',\n",
       " 'Charge.Description',\n",
       " 'Arrest.Location.PSA',\n",
       " 'Arrest.Location.District',\n",
       " 'Arrest.Block.GEOX',\n",
       " 'Arrest.Block.GEOY',\n",
       " 'Offense.GEOY',\n",
       " 'Offense.GEOX',\n",
       " 'Offense.PSA',\n",
       " 'Offense.District',\n",
       " 'Arrest.Latitude',\n",
       " 'Arrest.Longitude',\n",
       " 'Offense.Latitude',\n",
       " 'Offense.Longitude']"
      ]
     },
     "execution_count": 2,
     "metadata": {},
     "output_type": "execute_result"
    }
   ],
   "source": [
    "import pandas as pd\n",
    "#this reads in the file \n",
    "arrest = pd.read_csv('arrests_2013-2023.csv')\n",
    "list(arrest)"
   ]
  },
  {
   "cell_type": "code",
   "execution_count": 3,
   "metadata": {},
   "outputs": [],
   "source": [
    "import folium\n",
    "from folium.plugins import HeatMap, MarkerCluster\n",
    "from sklearn.preprocessing import MinMaxScaler\n",
    "\n",
    "# Normalize crime counts for the heatmap\n",
    "district_crime = arrest.groupby(['Offense.District', 'Offense.Latitude', 'Offense.Longitude']).size().reset_index(name='crime_count')\n",
    "# Initialize a map centered around the average lat/lon\n",
    "m = folium.Map(location=[arrest['Offense.Latitude'].mean(), arrest['Offense.Longitude'].mean()], zoom_start=12)\n",
    "heat_data = district_crime[['Offense.Latitude', 'Offense.Longitude', 'crime_count']].values.tolist()\n",
    "heatmap_layer = folium.FeatureGroup(name='Heatmap')\n",
    "HeatMap(\n",
    "    heat_data,\n",
    "    radius=20,  # Adjust radius for smoother visualization\n",
    "    blur=25,\n",
    "    max_zoom=12,\n",
    "    gradient={0.2: 'blue', 0.4: 'lime', 0.6: 'yellow', 0.8: 'orange', 1: 'red'}\n",
    ").add_to(heatmap_layer)\n",
    "heatmap_layer.add_to(m)\n",
    "\n",
    "m.get_root().html.add_child(folium.Element())\n",
    "\n",
    "# Save map to an HTML file\n",
    "m.save('crime_heatmap_combined.html')\n"
   ]
  }
 ],
 "metadata": {
  "kernelspec": {
   "display_name": "base",
   "language": "python",
   "name": "python3"
  },
  "language_info": {
   "codemirror_mode": {
    "name": "ipython",
    "version": 3
   },
   "file_extension": ".py",
   "mimetype": "text/x-python",
   "name": "python",
   "nbconvert_exporter": "python",
   "pygments_lexer": "ipython3",
   "version": "3.11.7"
  }
 },
 "nbformat": 4,
 "nbformat_minor": 2
}
