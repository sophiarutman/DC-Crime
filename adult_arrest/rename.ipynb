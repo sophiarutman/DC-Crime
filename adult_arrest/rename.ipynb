{
 "cells": [
  {
   "cell_type": "code",
   "execution_count": 13,
   "metadata": {},
   "outputs": [],
   "source": [
    "import os\n",
    "import pandas as pd"
   ]
  },
  {
   "cell_type": "code",
   "execution_count": 14,
   "metadata": {},
   "outputs": [],
   "source": [
    "for file in os.listdir(\".\"):\n",
    "    os.rename(file, file.replace(\" \", \"_\").replace(\",\", \"\"))\n"
   ]
  },
  {
   "cell_type": "code",
   "execution_count": 15,
   "metadata": {},
   "outputs": [
    {
     "name": "stderr",
     "output_type": "stream",
     "text": [
      "/var/folders/8n/rfnmqbtd0tvdljpw_xbt64jh0000gn/T/ipykernel_57597/2898241569.py:4: DtypeWarning: Columns (8,15,17,18,21,22,27,30,31) have mixed types. Specify dtype option on import or set low_memory=False.\n",
      "  adult_arrests = pd.concat([adult_arrests, pd.read_csv(file, on_bad_lines=\"skip\")])\n"
     ]
    }
   ],
   "source": [
    "adult_arrests = pd.DataFrame()\n",
    "\n",
    "for file in os.listdir(\".\"):\n",
    "    adult_arrests = pd.concat([adult_arrests, pd.read_csv(file, on_bad_lines=\"skip\")])\n",
    "\n",
    "adult_arrests.to_csv(\"all_adult_arrests.csv\")"
   ]
  }
 ],
 "metadata": {
  "kernelspec": {
   "display_name": "Python 3",
   "language": "python",
   "name": "python3"
  },
  "language_info": {
   "codemirror_mode": {
    "name": "ipython",
    "version": 3
   },
   "file_extension": ".py",
   "mimetype": "text/x-python",
   "name": "python",
   "nbconvert_exporter": "python",
   "pygments_lexer": "ipython3",
   "version": "3.11.6"
  }
 },
 "nbformat": 4,
 "nbformat_minor": 2
}
