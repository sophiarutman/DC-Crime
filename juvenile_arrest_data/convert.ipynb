{
 "cells": [
  {
   "cell_type": "code",
   "execution_count": 34,
   "metadata": {},
   "outputs": [],
   "source": [
    "import os\n",
    "import pandas as pd"
   ]
  },
  {
   "cell_type": "code",
   "execution_count": 35,
   "metadata": {},
   "outputs": [],
   "source": [
    "for file in os.listdir(\".\"): \n",
    "    new_file = file[:-6] + \".csv\"\n",
    "    os.rename(file, file[:-6] + \".csv\")\n",
    "    os.rename(new_file, file.replace(\" \", \"_\"))\n"
   ]
  },
  {
   "cell_type": "code",
   "execution_count": 38,
   "metadata": {},
   "outputs": [],
   "source": [
    "juv_arrests = pd.DataFrame()\n",
    "\n",
    "for file in os.listdir(\".\"):\n",
    "    if file != \"convert.ipynb\":\n",
    "        df = pd.read_csv(file, on_bad_lines=\"skip\")\n",
    "        df = df.iloc[:,:4].reset_index(drop = True)\n",
    "        juv_arrests = pd.concat([juv_arrests, pd.read_csv(file, on_bad_lines=\"skip\")])\n",
    "        juv_arrests = juv_arrests.reset_index(drop = True)\n",
    "\n",
    "juv_arrests.iloc[:,:4].to_csv(\"all_juvenile_arrests.csv\")"
   ]
  }
 ],
 "metadata": {
  "kernelspec": {
   "display_name": "Python 3",
   "language": "python",
   "name": "python3"
  },
  "language_info": {
   "codemirror_mode": {
    "name": "ipython",
    "version": 3
   },
   "file_extension": ".py",
   "mimetype": "text/x-python",
   "name": "python",
   "nbconvert_exporter": "python",
   "pygments_lexer": "ipython3",
   "version": "3.11.6"
  }
 },
 "nbformat": 4,
 "nbformat_minor": 2
}
